{
 "cells": [
  {
   "cell_type": "markdown",
   "id": "1d945b17",
   "metadata": {},
   "source": [
    "# COMP 4448: Data Science Tools II - Assignment 1"
   ]
  },
  {
   "cell_type": "markdown",
   "id": "9fc0eea3",
   "metadata": {},
   "source": [
    "### Robert Kraemer\n",
    "\n",
    "<b>Due:</b> Sep 19 at 11:59pm "
   ]
  },
  {
   "cell_type": "markdown",
   "id": "ebee595b",
   "metadata": {},
   "source": [
    "<b>Directions:</b> Do this assignment in Jupyter Notebook and provide screenshots of code and output in this word document wherever required. You will upload this word document containing screenshots of code and answers as well as your Jupyter Notebook to Canvas. All assignments will be submitted and graded through canvas and grades will be transferred to the 2U platform. "
   ]
  },
  {
   "cell_type": "markdown",
   "id": "716fe3a0",
   "metadata": {},
   "source": [
    "<b>Goal:</b> The goal of this assignment is to give you the opportunity to practice some key aspects of data preprocessing, which is a crucial step of the data science workflow.  "
   ]
  },
  {
   "cell_type": "markdown",
   "id": "4b992c3d",
   "metadata": {},
   "source": [
    "<b>Packages:</b> Core packages required for this assignment are numpy, pandas and sklearn. You can import additional packages if necessary, but these mentioned packages should be enough. "
   ]
  },
  {
   "cell_type": "code",
   "execution_count": 110,
   "id": "54f29364",
   "metadata": {},
   "outputs": [],
   "source": [
    "import numpy as np\n",
    "import pandas as pd\n",
    "import sklearn as sk"
   ]
  },
  {
   "cell_type": "markdown",
   "id": "69c58e6e",
   "metadata": {},
   "source": [
    "### Points: 50"
   ]
  },
  {
   "cell_type": "markdown",
   "id": "abb96de9",
   "metadata": {},
   "source": [
    "## Question 1\n",
    "\n"
   ]
  },
  {
   "cell_type": "markdown",
   "id": "24a3d44e",
   "metadata": {},
   "source": [
    "<b>a)</b>\tRead the boston dataset csv files provided for this assignment into Python (you can use pd.read_csv()). The boston datasets are boston_weather_1, boston_weather_2, boston_weather_3, boston_weather_4, and more_weather_variables, then assign the datasets to a DataFrame variable called boston_1, boston_2, boston_3, boston_4, and more_variables, respectively. Combine or concatenate the DataFrames, boston_1, boston_2, boston_3, and boston_4 and assign the results to a DataFrame called combined_boston. These four datasets should be combined vertically since they have the same variable names, such that boston_1 is stacked on top of boston_2, and the result is stacked on top of boston_3, and the result is further stacked on top of boston_4. Horizontally merge, join or concatenate the combined_boston and more_variables DataFrames and assign the results to a DataFrame called boston_data. Print the first five rows of the boston_data, and the last five rows of the boston_data. Also print out the shape of the boston_data. "
   ]
  },
  {
   "cell_type": "code",
   "execution_count": 111,
   "id": "60301bc8",
   "metadata": {},
   "outputs": [],
   "source": [
    "# Read boston dataset csv files and assign the datasets to a DataFrame variable called \n",
    "# boston_1, boston_2, boston_3, boston_4, and more_variables, respectively\n",
    "boston_1 = pd.read_csv('boston_weather_1.csv')\n",
    "boston_2 = pd.read_csv('boston_weather_2.csv')\n",
    "boston_3 = pd.read_csv('boston_weather_3.csv')\n",
    "boston_4 = pd.read_csv('boston_weather_4.csv')\n",
    "more_variables = pd.read_csv('more_weather_variables.csv')         "
   ]
  },
  {
   "cell_type": "code",
   "execution_count": 112,
   "id": "412b5c55",
   "metadata": {},
   "outputs": [],
   "source": [
    "# Combine or concatenate the DataFrames, boston_1, boston_2, boston_3, and boston_4 and \n",
    "# assign the results to a DataFrame called combined_boston\n",
    "combined_boston = pd.concat([boston_1, boston_2, boston_3, boston_4], ignore_index=True)"
   ]
  },
  {
   "cell_type": "code",
   "execution_count": 113,
   "id": "fed1ec47",
   "metadata": {},
   "outputs": [],
   "source": [
    "# Horizontally merge, join or concatenate the combined_boston and more_variables DataFrames \n",
    "# and assign the results to a DataFrame called boston_data\n",
    "boston_data = combined_boston.join(more_variables)"
   ]
  },
  {
   "cell_type": "code",
   "execution_count": 114,
   "id": "f8dcb896",
   "metadata": {
    "scrolled": true
   },
   "outputs": [
    {
     "data": {
      "text/html": [
       "<div>\n",
       "<style scoped>\n",
       "    .dataframe tbody tr th:only-of-type {\n",
       "        vertical-align: middle;\n",
       "    }\n",
       "\n",
       "    .dataframe tbody tr th {\n",
       "        vertical-align: top;\n",
       "    }\n",
       "\n",
       "    .dataframe thead th {\n",
       "        text-align: right;\n",
       "    }\n",
       "</style>\n",
       "<table border=\"1\" class=\"dataframe\">\n",
       "  <thead>\n",
       "    <tr style=\"text-align: right;\">\n",
       "      <th></th>\n",
       "      <th>Month</th>\n",
       "      <th>Year</th>\n",
       "      <th>LowTemp</th>\n",
       "      <th>HighTemp</th>\n",
       "      <th>WarmestMin</th>\n",
       "      <th>ColdestHigh</th>\n",
       "      <th>AveMin</th>\n",
       "      <th>AveMax</th>\n",
       "      <th>meanTemp</th>\n",
       "      <th>TotPrecip</th>\n",
       "      <th>TotSnow</th>\n",
       "      <th>Max24hrPrecip</th>\n",
       "      <th>Max24hrSnow</th>\n",
       "    </tr>\n",
       "  </thead>\n",
       "  <tbody>\n",
       "    <tr>\n",
       "      <th>0</th>\n",
       "      <td>1</td>\n",
       "      <td>1920</td>\n",
       "      <td>-8.0</td>\n",
       "      <td>48.0</td>\n",
       "      <td>37.0</td>\n",
       "      <td>12.0</td>\n",
       "      <td>12.5</td>\n",
       "      <td>29.5</td>\n",
       "      <td>21.0</td>\n",
       "      <td>2.72</td>\n",
       "      <td>24.8</td>\n",
       "      <td>0.74</td>\n",
       "      <td>6.7</td>\n",
       "    </tr>\n",
       "    <tr>\n",
       "      <th>1</th>\n",
       "      <td>2</td>\n",
       "      <td>1920</td>\n",
       "      <td>-7.0</td>\n",
       "      <td>52.0</td>\n",
       "      <td>34.0</td>\n",
       "      <td>16.0</td>\n",
       "      <td>20.6</td>\n",
       "      <td>34.6</td>\n",
       "      <td>27.6</td>\n",
       "      <td>4.11</td>\n",
       "      <td>32.5</td>\n",
       "      <td>1.01</td>\n",
       "      <td>12.2</td>\n",
       "    </tr>\n",
       "    <tr>\n",
       "      <th>2</th>\n",
       "      <td>3</td>\n",
       "      <td>1920</td>\n",
       "      <td>10.0</td>\n",
       "      <td>72.0</td>\n",
       "      <td>45.0</td>\n",
       "      <td>25.0</td>\n",
       "      <td>30.5</td>\n",
       "      <td>48.0</td>\n",
       "      <td>39.3</td>\n",
       "      <td>3.72</td>\n",
       "      <td>11</td>\n",
       "      <td>1.15</td>\n",
       "      <td>6</td>\n",
       "    </tr>\n",
       "    <tr>\n",
       "      <th>3</th>\n",
       "      <td>4</td>\n",
       "      <td>1920</td>\n",
       "      <td>26.0</td>\n",
       "      <td>67.0</td>\n",
       "      <td>46.0</td>\n",
       "      <td>37.0</td>\n",
       "      <td>38.0</td>\n",
       "      <td>52.1</td>\n",
       "      <td>45.1</td>\n",
       "      <td>5.68</td>\n",
       "      <td>2</td>\n",
       "      <td>1.19</td>\n",
       "      <td>2</td>\n",
       "    </tr>\n",
       "    <tr>\n",
       "      <th>4</th>\n",
       "      <td>5</td>\n",
       "      <td>1920</td>\n",
       "      <td>36.0</td>\n",
       "      <td>86.0</td>\n",
       "      <td>61.0</td>\n",
       "      <td>45.0</td>\n",
       "      <td>47.5</td>\n",
       "      <td>61.8</td>\n",
       "      <td>54.6</td>\n",
       "      <td>5.26</td>\n",
       "      <td>0</td>\n",
       "      <td>3.23</td>\n",
       "      <td>0</td>\n",
       "    </tr>\n",
       "  </tbody>\n",
       "</table>\n",
       "</div>"
      ],
      "text/plain": [
       "   Month  Year  LowTemp  HighTemp  WarmestMin  ColdestHigh  AveMin  AveMax  \\\n",
       "0      1  1920     -8.0      48.0        37.0         12.0    12.5    29.5   \n",
       "1      2  1920     -7.0      52.0        34.0         16.0    20.6    34.6   \n",
       "2      3  1920     10.0      72.0        45.0         25.0    30.5    48.0   \n",
       "3      4  1920     26.0      67.0        46.0         37.0    38.0    52.1   \n",
       "4      5  1920     36.0      86.0        61.0         45.0    47.5    61.8   \n",
       "\n",
       "   meanTemp  TotPrecip TotSnow  Max24hrPrecip Max24hrSnow  \n",
       "0      21.0       2.72    24.8           0.74         6.7  \n",
       "1      27.6       4.11    32.5           1.01        12.2  \n",
       "2      39.3       3.72      11           1.15           6  \n",
       "3      45.1       5.68       2           1.19           2  \n",
       "4      54.6       5.26       0           3.23           0  "
      ]
     },
     "execution_count": 114,
     "metadata": {},
     "output_type": "execute_result"
    }
   ],
   "source": [
    "# Print the first five rows of the boston_data\n",
    "boston_data.head(5)"
   ]
  },
  {
   "cell_type": "code",
   "execution_count": 115,
   "id": "371b792d",
   "metadata": {
    "scrolled": true
   },
   "outputs": [
    {
     "data": {
      "text/html": [
       "<div>\n",
       "<style scoped>\n",
       "    .dataframe tbody tr th:only-of-type {\n",
       "        vertical-align: middle;\n",
       "    }\n",
       "\n",
       "    .dataframe tbody tr th {\n",
       "        vertical-align: top;\n",
       "    }\n",
       "\n",
       "    .dataframe thead th {\n",
       "        text-align: right;\n",
       "    }\n",
       "</style>\n",
       "<table border=\"1\" class=\"dataframe\">\n",
       "  <thead>\n",
       "    <tr style=\"text-align: right;\">\n",
       "      <th></th>\n",
       "      <th>Month</th>\n",
       "      <th>Year</th>\n",
       "      <th>LowTemp</th>\n",
       "      <th>HighTemp</th>\n",
       "      <th>WarmestMin</th>\n",
       "      <th>ColdestHigh</th>\n",
       "      <th>AveMin</th>\n",
       "      <th>AveMax</th>\n",
       "      <th>meanTemp</th>\n",
       "      <th>TotPrecip</th>\n",
       "      <th>TotSnow</th>\n",
       "      <th>Max24hrPrecip</th>\n",
       "      <th>Max24hrSnow</th>\n",
       "    </tr>\n",
       "  </thead>\n",
       "  <tbody>\n",
       "    <tr>\n",
       "      <th>1135</th>\n",
       "      <td>8</td>\n",
       "      <td>2014</td>\n",
       "      <td>58.0</td>\n",
       "      <td>91.0</td>\n",
       "      <td>70.0</td>\n",
       "      <td>69.0</td>\n",
       "      <td>63.2</td>\n",
       "      <td>78.4</td>\n",
       "      <td>70.8</td>\n",
       "      <td>1.75</td>\n",
       "      <td>0</td>\n",
       "      <td>1.06</td>\n",
       "      <td>0</td>\n",
       "    </tr>\n",
       "    <tr>\n",
       "      <th>1136</th>\n",
       "      <td>9</td>\n",
       "      <td>2014</td>\n",
       "      <td>46.0</td>\n",
       "      <td>93.0</td>\n",
       "      <td>72.0</td>\n",
       "      <td>56.0</td>\n",
       "      <td>58.3</td>\n",
       "      <td>74.2</td>\n",
       "      <td>66.2</td>\n",
       "      <td>0.70</td>\n",
       "      <td>0</td>\n",
       "      <td>0.22</td>\n",
       "      <td>0</td>\n",
       "    </tr>\n",
       "    <tr>\n",
       "      <th>1137</th>\n",
       "      <td>10</td>\n",
       "      <td>2014</td>\n",
       "      <td>39.0</td>\n",
       "      <td>81.0</td>\n",
       "      <td>61.0</td>\n",
       "      <td>52.0</td>\n",
       "      <td>49.7</td>\n",
       "      <td>63.0</td>\n",
       "      <td>56.4</td>\n",
       "      <td>5.83</td>\n",
       "      <td>0</td>\n",
       "      <td>2.25</td>\n",
       "      <td>0</td>\n",
       "    </tr>\n",
       "    <tr>\n",
       "      <th>1138</th>\n",
       "      <td>11</td>\n",
       "      <td>2014</td>\n",
       "      <td>23.0</td>\n",
       "      <td>66.0</td>\n",
       "      <td>48.0</td>\n",
       "      <td>34.0</td>\n",
       "      <td>35.5</td>\n",
       "      <td>49.5</td>\n",
       "      <td>42.5</td>\n",
       "      <td>5.27</td>\n",
       "      <td>2.6</td>\n",
       "      <td>1.64</td>\n",
       "      <td>2.3</td>\n",
       "    </tr>\n",
       "    <tr>\n",
       "      <th>1139</th>\n",
       "      <td>12</td>\n",
       "      <td>2014</td>\n",
       "      <td>18.0</td>\n",
       "      <td>64.0</td>\n",
       "      <td>44.0</td>\n",
       "      <td>29.0</td>\n",
       "      <td>32.8</td>\n",
       "      <td>43.7</td>\n",
       "      <td>38.3</td>\n",
       "      <td>6.56</td>\n",
       "      <td>0.3</td>\n",
       "      <td>2.90</td>\n",
       "      <td>0.3</td>\n",
       "    </tr>\n",
       "  </tbody>\n",
       "</table>\n",
       "</div>"
      ],
      "text/plain": [
       "      Month  Year  LowTemp  HighTemp  WarmestMin  ColdestHigh  AveMin  AveMax  \\\n",
       "1135      8  2014     58.0      91.0        70.0         69.0    63.2    78.4   \n",
       "1136      9  2014     46.0      93.0        72.0         56.0    58.3    74.2   \n",
       "1137     10  2014     39.0      81.0        61.0         52.0    49.7    63.0   \n",
       "1138     11  2014     23.0      66.0        48.0         34.0    35.5    49.5   \n",
       "1139     12  2014     18.0      64.0        44.0         29.0    32.8    43.7   \n",
       "\n",
       "      meanTemp  TotPrecip TotSnow  Max24hrPrecip Max24hrSnow  \n",
       "1135      70.8       1.75       0           1.06           0  \n",
       "1136      66.2       0.70       0           0.22           0  \n",
       "1137      56.4       5.83       0           2.25           0  \n",
       "1138      42.5       5.27     2.6           1.64         2.3  \n",
       "1139      38.3       6.56     0.3           2.90         0.3  "
      ]
     },
     "execution_count": 115,
     "metadata": {},
     "output_type": "execute_result"
    }
   ],
   "source": [
    "# Print the last five rows of the boston_data\n",
    "boston_data.tail(5)"
   ]
  },
  {
   "cell_type": "code",
   "execution_count": 116,
   "id": "82bae4b7",
   "metadata": {},
   "outputs": [
    {
     "data": {
      "text/plain": [
       "(1140, 13)"
      ]
     },
     "execution_count": 116,
     "metadata": {},
     "output_type": "execute_result"
    }
   ],
   "source": [
    "# Print out the shape of the boston_data\n",
    "boston_data.shape"
   ]
  },
  {
   "cell_type": "markdown",
   "id": "a67eab67",
   "metadata": {},
   "source": [
    "<b>b)</b>\tCheck the boston_data to verify how many missing data points exist under each column. "
   ]
  },
  {
   "cell_type": "code",
   "execution_count": 117,
   "id": "43732359",
   "metadata": {},
   "outputs": [
    {
     "data": {
      "text/plain": [
       "Month            0\n",
       "Year             0\n",
       "LowTemp          6\n",
       "HighTemp         5\n",
       "WarmestMin       6\n",
       "ColdestHigh      9\n",
       "AveMin           3\n",
       "AveMax           6\n",
       "meanTemp         0\n",
       "TotPrecip        0\n",
       "TotSnow          0\n",
       "Max24hrPrecip    0\n",
       "Max24hrSnow      0\n",
       "dtype: int64"
      ]
     },
     "execution_count": 117,
     "metadata": {},
     "output_type": "execute_result"
    }
   ],
   "source": [
    "# Verify how many missing data points exist under each column\n",
    "boston_data.isnull().sum()"
   ]
  },
  {
   "cell_type": "markdown",
   "id": "2a5d7e83",
   "metadata": {},
   "source": [
    "<b>c)</b>\tDrop the rows or instances that contain any missing data. Assign the resulting DataFrame to a variable called clean_boston_data. Note that this is only one way of dealing with missing data and cases with missing data are usually used if you have sufficient sample size. Check for missing data again to ensure there is no missing data in the clean_boston_data. Print the shape of the clean_boston_data"
   ]
  },
  {
   "cell_type": "code",
   "execution_count": 125,
   "id": "84055eb5",
   "metadata": {},
   "outputs": [],
   "source": [
    "# Drop the rows or instances that contain any missing data and \n",
    "# assign the resulting DataFrame to a variable called clean_boston_data\n",
    "clean_boston_data = boston_data.dropna(axis='rows').reset_index(drop=True)"
   ]
  },
  {
   "cell_type": "code",
   "execution_count": 126,
   "id": "a5690ce4",
   "metadata": {},
   "outputs": [
    {
     "data": {
      "text/plain": [
       "Month            0\n",
       "Year             0\n",
       "LowTemp          0\n",
       "HighTemp         0\n",
       "WarmestMin       0\n",
       "ColdestHigh      0\n",
       "AveMin           0\n",
       "AveMax           0\n",
       "meanTemp         0\n",
       "TotPrecip        0\n",
       "TotSnow          0\n",
       "Max24hrPrecip    0\n",
       "Max24hrSnow      0\n",
       "dtype: int64"
      ]
     },
     "execution_count": 126,
     "metadata": {},
     "output_type": "execute_result"
    }
   ],
   "source": [
    "# Check for missing data again to ensure there is no missing data in the clean_boston_data\n",
    "clean_boston_data.isnull().sum()"
   ]
  },
  {
   "cell_type": "code",
   "execution_count": 127,
   "id": "4aa2640d",
   "metadata": {},
   "outputs": [
    {
     "data": {
      "text/plain": [
       "(1112, 13)"
      ]
     },
     "execution_count": 127,
     "metadata": {},
     "output_type": "execute_result"
    }
   ],
   "source": [
    "# Print the shape of the clean_boston_data\n",
    "clean_boston_data.shape"
   ]
  },
  {
   "cell_type": "markdown",
   "id": "8645a1cd",
   "metadata": {},
   "source": [
    "<b>d)</b>\tFormat all the column names to lowercase and include underscore between column names that consist of two words. For example, meanTemp should become mean_temp, and Max24hrPrep can become max_24hr_prep, and HighTemp becomes high_temp, etc. Reassign the DataFrame with the formatted column names to the same variable, clean_boston_data. Print or output the columns of the clean_boston_data DataFrame. "
   ]
  },
  {
   "cell_type": "code",
   "execution_count": 128,
   "id": "c73eac48",
   "metadata": {},
   "outputs": [],
   "source": [
    "# Format all the column names to lowercase and include underscore between column names \n",
    "# that consist of two words \n",
    "clean_boston_data.rename(columns={\"Month\":\"month\",\n",
    "                                  \"Year\":\"year\", \n",
    "                                  \"LowTemp\":\"low_temp\", \n",
    "                                  \"HighTemp\":\"high_temp\", \n",
    "                                  \"WarmestMin\":\"warmest_min\",\n",
    "                                  \"ColdestHigh\":\"coldest_high\",\n",
    "                                  \"AveMin\":\"ave_min\",\n",
    "                                  \"AveMax\":\"ave_max\",\n",
    "                                  \"meanTemp\":\"mean_temp\",\n",
    "                                  \"TotPrecip\":\"tot_precip\",\n",
    "                                  \"TotSnow\":\"tot_snow\",\n",
    "                                  \"Max24hrPrecip\":\"max_24hr_precip\",\n",
    "                                  \"Max24hrSnow\":\"max_24hr_snow\"}, inplace=True)"
   ]
  },
  {
   "cell_type": "code",
   "execution_count": 129,
   "id": "e8ef1276",
   "metadata": {},
   "outputs": [
    {
     "data": {
      "text/plain": [
       "Index(['month', 'year', 'low_temp', 'high_temp', 'warmest_min', 'coldest_high',\n",
       "       'ave_min', 'ave_max', 'mean_temp', 'tot_precip', 'tot_snow',\n",
       "       'max_24hr_precip', 'max_24hr_snow'],\n",
       "      dtype='object')"
      ]
     },
     "execution_count": 129,
     "metadata": {},
     "output_type": "execute_result"
    }
   ],
   "source": [
    "# Print columns of the clean_boston_data\n",
    "clean_boston_data.columns"
   ]
  },
  {
   "cell_type": "markdown",
   "id": "1c0ce861",
   "metadata": {},
   "source": [
    "<b>e)</b>\tSelect or slice all data from the clean_boston_data DataFrame, except the data where the Year is 1930. You can call this subset data excluding_1930. Using the excluding_1930 DataFrame, output the first 20 unique values in the Year column.  "
   ]
  },
  {
   "cell_type": "code",
   "execution_count": 139,
   "id": "dece632b",
   "metadata": {},
   "outputs": [],
   "source": [
    "# Slice clean_boston_data DataFrame, excluding the data where the Year is 1930, \n",
    "# and assign to excluding_1930\n",
    "excluding_1930 = clean_boston_data[clean_boston_data[\"year\"]!=1930]"
   ]
  },
  {
   "cell_type": "code",
   "execution_count": 148,
   "id": "f38179ac",
   "metadata": {},
   "outputs": [
    {
     "data": {
      "text/plain": [
       "array([1920, 1921, 1922, 1923, 1924, 1925, 1926, 1927, 1928, 1929, 1931,\n",
       "       1932, 1933, 1934, 1935, 1936, 1937, 1938, 1939, 1940])"
      ]
     },
     "execution_count": 148,
     "metadata": {},
     "output_type": "execute_result"
    }
   ],
   "source": [
    "# Output the first 20 unique values in the Year column of excluding_1930\n",
    "excluding_1930.year.unique()[:20]"
   ]
  },
  {
   "cell_type": "markdown",
   "id": "12636f50",
   "metadata": {},
   "source": [
    "<b>f)</b>\tSelect the data from the clean_boston_data where the Year is 1995 AND the high_temp is greater than or equal to 90. Output or display the whole selected data. Here, you don’t have to assign it to any variable, but you could if you want to. \n"
   ]
  },
  {
   "cell_type": "code",
   "execution_count": 152,
   "id": "6b8e93c2",
   "metadata": {},
   "outputs": [
    {
     "data": {
      "text/html": [
       "<div>\n",
       "<style scoped>\n",
       "    .dataframe tbody tr th:only-of-type {\n",
       "        vertical-align: middle;\n",
       "    }\n",
       "\n",
       "    .dataframe tbody tr th {\n",
       "        vertical-align: top;\n",
       "    }\n",
       "\n",
       "    .dataframe thead th {\n",
       "        text-align: right;\n",
       "    }\n",
       "</style>\n",
       "<table border=\"1\" class=\"dataframe\">\n",
       "  <thead>\n",
       "    <tr style=\"text-align: right;\">\n",
       "      <th></th>\n",
       "      <th>month</th>\n",
       "      <th>year</th>\n",
       "      <th>low_temp</th>\n",
       "      <th>high_temp</th>\n",
       "      <th>warmest_min</th>\n",
       "      <th>coldest_high</th>\n",
       "      <th>ave_min</th>\n",
       "      <th>ave_max</th>\n",
       "      <th>mean_temp</th>\n",
       "      <th>tot_precip</th>\n",
       "      <th>tot_snow</th>\n",
       "      <th>max_24hr_precip</th>\n",
       "      <th>max_24hr_snow</th>\n",
       "    </tr>\n",
       "  </thead>\n",
       "  <tbody>\n",
       "    <tr>\n",
       "      <th>884</th>\n",
       "      <td>6</td>\n",
       "      <td>1995</td>\n",
       "      <td>53.0</td>\n",
       "      <td>95.0</td>\n",
       "      <td>73.0</td>\n",
       "      <td>61.0</td>\n",
       "      <td>60.2</td>\n",
       "      <td>77.0</td>\n",
       "      <td>68.6</td>\n",
       "      <td>1.55</td>\n",
       "      <td>0</td>\n",
       "      <td>0.53</td>\n",
       "      <td>0</td>\n",
       "    </tr>\n",
       "    <tr>\n",
       "      <th>885</th>\n",
       "      <td>7</td>\n",
       "      <td>1995</td>\n",
       "      <td>59.0</td>\n",
       "      <td>100.0</td>\n",
       "      <td>75.0</td>\n",
       "      <td>67.0</td>\n",
       "      <td>67.1</td>\n",
       "      <td>84.6</td>\n",
       "      <td>75.9</td>\n",
       "      <td>2.06</td>\n",
       "      <td>0</td>\n",
       "      <td>0.88</td>\n",
       "      <td>0</td>\n",
       "    </tr>\n",
       "    <tr>\n",
       "      <th>886</th>\n",
       "      <td>8</td>\n",
       "      <td>1995</td>\n",
       "      <td>55.0</td>\n",
       "      <td>96.0</td>\n",
       "      <td>72.0</td>\n",
       "      <td>66.0</td>\n",
       "      <td>64.1</td>\n",
       "      <td>81.5</td>\n",
       "      <td>72.8</td>\n",
       "      <td>0.82</td>\n",
       "      <td>0</td>\n",
       "      <td>0.63</td>\n",
       "      <td>0</td>\n",
       "    </tr>\n",
       "  </tbody>\n",
       "</table>\n",
       "</div>"
      ],
      "text/plain": [
       "     month  year  low_temp  high_temp  warmest_min  coldest_high  ave_min  \\\n",
       "884      6  1995      53.0       95.0         73.0          61.0     60.2   \n",
       "885      7  1995      59.0      100.0         75.0          67.0     67.1   \n",
       "886      8  1995      55.0       96.0         72.0          66.0     64.1   \n",
       "\n",
       "     ave_max  mean_temp  tot_precip tot_snow  max_24hr_precip max_24hr_snow  \n",
       "884     77.0       68.6        1.55        0             0.53             0  \n",
       "885     84.6       75.9        2.06        0             0.88             0  \n",
       "886     81.5       72.8        0.82        0             0.63             0  "
      ]
     },
     "execution_count": 152,
     "metadata": {},
     "output_type": "execute_result"
    }
   ],
   "source": [
    "# Select and output the data from the clean_boston_data where the Year is 1995 AND \n",
    "# the high_temp is greater than or equal to 90\n",
    "clean_boston_data[(clean_boston_data['year']==1995) & \n",
    "                  (clean_boston_data['high_temp']>=90)]"
   ]
  },
  {
   "cell_type": "markdown",
   "id": "a49d59d7",
   "metadata": {},
   "source": [
    "<b>g)</b>\tSelect the data from the clean_boston_data where the Year is 1995 OR the high_temp is greater than 89. Output or print the first 20 rows of the selected data. Here, you don’t have to assign it to any variable, but you could if you want to. "
   ]
  },
  {
   "cell_type": "code",
   "execution_count": 155,
   "id": "4e5a1033",
   "metadata": {},
   "outputs": [
    {
     "data": {
      "text/html": [
       "<div>\n",
       "<style scoped>\n",
       "    .dataframe tbody tr th:only-of-type {\n",
       "        vertical-align: middle;\n",
       "    }\n",
       "\n",
       "    .dataframe tbody tr th {\n",
       "        vertical-align: top;\n",
       "    }\n",
       "\n",
       "    .dataframe thead th {\n",
       "        text-align: right;\n",
       "    }\n",
       "</style>\n",
       "<table border=\"1\" class=\"dataframe\">\n",
       "  <thead>\n",
       "    <tr style=\"text-align: right;\">\n",
       "      <th></th>\n",
       "      <th>month</th>\n",
       "      <th>year</th>\n",
       "      <th>low_temp</th>\n",
       "      <th>high_temp</th>\n",
       "      <th>warmest_min</th>\n",
       "      <th>coldest_high</th>\n",
       "      <th>ave_min</th>\n",
       "      <th>ave_max</th>\n",
       "      <th>mean_temp</th>\n",
       "      <th>tot_precip</th>\n",
       "      <th>tot_snow</th>\n",
       "      <th>max_24hr_precip</th>\n",
       "      <th>max_24hr_snow</th>\n",
       "    </tr>\n",
       "  </thead>\n",
       "  <tbody>\n",
       "    <tr>\n",
       "      <th>5</th>\n",
       "      <td>7</td>\n",
       "      <td>1920</td>\n",
       "      <td>56.0</td>\n",
       "      <td>90.0</td>\n",
       "      <td>71.0</td>\n",
       "      <td>65.0</td>\n",
       "      <td>63.4</td>\n",
       "      <td>81.4</td>\n",
       "      <td>72.4</td>\n",
       "      <td>1.56</td>\n",
       "      <td>0</td>\n",
       "      <td>0.76</td>\n",
       "      <td>0</td>\n",
       "    </tr>\n",
       "    <tr>\n",
       "      <th>6</th>\n",
       "      <td>8</td>\n",
       "      <td>1920</td>\n",
       "      <td>56.0</td>\n",
       "      <td>93.0</td>\n",
       "      <td>74.0</td>\n",
       "      <td>69.0</td>\n",
       "      <td>65.2</td>\n",
       "      <td>78.9</td>\n",
       "      <td>72.0</td>\n",
       "      <td>2.32</td>\n",
       "      <td>0</td>\n",
       "      <td>1.00</td>\n",
       "      <td>0</td>\n",
       "    </tr>\n",
       "    <tr>\n",
       "      <th>14</th>\n",
       "      <td>5</td>\n",
       "      <td>1921</td>\n",
       "      <td>41.0</td>\n",
       "      <td>93.0</td>\n",
       "      <td>70.0</td>\n",
       "      <td>48.0</td>\n",
       "      <td>50.0</td>\n",
       "      <td>66.1</td>\n",
       "      <td>58.0</td>\n",
       "      <td>3.63</td>\n",
       "      <td>0</td>\n",
       "      <td>1.82</td>\n",
       "      <td>0</td>\n",
       "    </tr>\n",
       "    <tr>\n",
       "      <th>15</th>\n",
       "      <td>8</td>\n",
       "      <td>1921</td>\n",
       "      <td>55.0</td>\n",
       "      <td>92.0</td>\n",
       "      <td>72.0</td>\n",
       "      <td>69.0</td>\n",
       "      <td>61.5</td>\n",
       "      <td>77.7</td>\n",
       "      <td>69.6</td>\n",
       "      <td>1.63</td>\n",
       "      <td>0</td>\n",
       "      <td>1.12</td>\n",
       "      <td>0</td>\n",
       "    </tr>\n",
       "    <tr>\n",
       "      <th>16</th>\n",
       "      <td>9</td>\n",
       "      <td>1921</td>\n",
       "      <td>53.0</td>\n",
       "      <td>93.0</td>\n",
       "      <td>75.0</td>\n",
       "      <td>64.0</td>\n",
       "      <td>60.1</td>\n",
       "      <td>76.9</td>\n",
       "      <td>68.5</td>\n",
       "      <td>1.22</td>\n",
       "      <td>0</td>\n",
       "      <td>0.36</td>\n",
       "      <td>0</td>\n",
       "    </tr>\n",
       "    <tr>\n",
       "      <th>25</th>\n",
       "      <td>6</td>\n",
       "      <td>1922</td>\n",
       "      <td>52.0</td>\n",
       "      <td>92.0</td>\n",
       "      <td>72.0</td>\n",
       "      <td>59.0</td>\n",
       "      <td>60.8</td>\n",
       "      <td>76.5</td>\n",
       "      <td>68.7</td>\n",
       "      <td>8.05</td>\n",
       "      <td>0</td>\n",
       "      <td>3.32</td>\n",
       "      <td>0</td>\n",
       "    </tr>\n",
       "    <tr>\n",
       "      <th>26</th>\n",
       "      <td>7</td>\n",
       "      <td>1922</td>\n",
       "      <td>58.0</td>\n",
       "      <td>93.0</td>\n",
       "      <td>72.0</td>\n",
       "      <td>64.0</td>\n",
       "      <td>64.4</td>\n",
       "      <td>79.7</td>\n",
       "      <td>72.0</td>\n",
       "      <td>2.63</td>\n",
       "      <td>0</td>\n",
       "      <td>0.86</td>\n",
       "      <td>0</td>\n",
       "    </tr>\n",
       "    <tr>\n",
       "      <th>27</th>\n",
       "      <td>8</td>\n",
       "      <td>1922</td>\n",
       "      <td>54.0</td>\n",
       "      <td>93.0</td>\n",
       "      <td>72.0</td>\n",
       "      <td>65.0</td>\n",
       "      <td>63.4</td>\n",
       "      <td>77.4</td>\n",
       "      <td>70.4</td>\n",
       "      <td>4.75</td>\n",
       "      <td>0</td>\n",
       "      <td>1.23</td>\n",
       "      <td>0</td>\n",
       "    </tr>\n",
       "    <tr>\n",
       "      <th>37</th>\n",
       "      <td>6</td>\n",
       "      <td>1923</td>\n",
       "      <td>47.0</td>\n",
       "      <td>96.0</td>\n",
       "      <td>74.0</td>\n",
       "      <td>53.0</td>\n",
       "      <td>59.6</td>\n",
       "      <td>79.0</td>\n",
       "      <td>69.3</td>\n",
       "      <td>2.03</td>\n",
       "      <td>0</td>\n",
       "      <td>1.02</td>\n",
       "      <td>0</td>\n",
       "    </tr>\n",
       "    <tr>\n",
       "      <th>38</th>\n",
       "      <td>7</td>\n",
       "      <td>1923</td>\n",
       "      <td>56.0</td>\n",
       "      <td>94.0</td>\n",
       "      <td>72.0</td>\n",
       "      <td>62.0</td>\n",
       "      <td>62.2</td>\n",
       "      <td>77.7</td>\n",
       "      <td>69.9</td>\n",
       "      <td>3.36</td>\n",
       "      <td>0</td>\n",
       "      <td>0.78</td>\n",
       "      <td>0</td>\n",
       "    </tr>\n",
       "    <tr>\n",
       "      <th>39</th>\n",
       "      <td>8</td>\n",
       "      <td>1923</td>\n",
       "      <td>51.0</td>\n",
       "      <td>94.0</td>\n",
       "      <td>74.0</td>\n",
       "      <td>63.0</td>\n",
       "      <td>60.5</td>\n",
       "      <td>78.1</td>\n",
       "      <td>69.3</td>\n",
       "      <td>2.07</td>\n",
       "      <td>0</td>\n",
       "      <td>0.78</td>\n",
       "      <td>0</td>\n",
       "    </tr>\n",
       "    <tr>\n",
       "      <th>49</th>\n",
       "      <td>6</td>\n",
       "      <td>1924</td>\n",
       "      <td>48.0</td>\n",
       "      <td>90.0</td>\n",
       "      <td>68.0</td>\n",
       "      <td>58.0</td>\n",
       "      <td>58.2</td>\n",
       "      <td>75.1</td>\n",
       "      <td>66.7</td>\n",
       "      <td>1.07</td>\n",
       "      <td>0</td>\n",
       "      <td>0.36</td>\n",
       "      <td>0</td>\n",
       "    </tr>\n",
       "    <tr>\n",
       "      <th>50</th>\n",
       "      <td>7</td>\n",
       "      <td>1924</td>\n",
       "      <td>58.0</td>\n",
       "      <td>95.0</td>\n",
       "      <td>73.0</td>\n",
       "      <td>68.0</td>\n",
       "      <td>64.8</td>\n",
       "      <td>82.9</td>\n",
       "      <td>73.8</td>\n",
       "      <td>2.04</td>\n",
       "      <td>0</td>\n",
       "      <td>0.70</td>\n",
       "      <td>0</td>\n",
       "    </tr>\n",
       "    <tr>\n",
       "      <th>51</th>\n",
       "      <td>8</td>\n",
       "      <td>1924</td>\n",
       "      <td>56.0</td>\n",
       "      <td>98.0</td>\n",
       "      <td>75.0</td>\n",
       "      <td>68.0</td>\n",
       "      <td>64.4</td>\n",
       "      <td>79.5</td>\n",
       "      <td>71.9</td>\n",
       "      <td>6.86</td>\n",
       "      <td>0</td>\n",
       "      <td>4.15</td>\n",
       "      <td>0</td>\n",
       "    </tr>\n",
       "    <tr>\n",
       "      <th>52</th>\n",
       "      <td>9</td>\n",
       "      <td>1924</td>\n",
       "      <td>44.0</td>\n",
       "      <td>90.0</td>\n",
       "      <td>71.0</td>\n",
       "      <td>59.0</td>\n",
       "      <td>54.4</td>\n",
       "      <td>70.0</td>\n",
       "      <td>62.2</td>\n",
       "      <td>6.96</td>\n",
       "      <td>0</td>\n",
       "      <td>3.89</td>\n",
       "      <td>0</td>\n",
       "    </tr>\n",
       "    <tr>\n",
       "      <th>61</th>\n",
       "      <td>6</td>\n",
       "      <td>1925</td>\n",
       "      <td>53.0</td>\n",
       "      <td>100.0</td>\n",
       "      <td>80.0</td>\n",
       "      <td>59.0</td>\n",
       "      <td>61.1</td>\n",
       "      <td>80.7</td>\n",
       "      <td>70.9</td>\n",
       "      <td>4.59</td>\n",
       "      <td>0</td>\n",
       "      <td>1.36</td>\n",
       "      <td>0</td>\n",
       "    </tr>\n",
       "    <tr>\n",
       "      <th>62</th>\n",
       "      <td>7</td>\n",
       "      <td>1925</td>\n",
       "      <td>54.0</td>\n",
       "      <td>95.0</td>\n",
       "      <td>73.0</td>\n",
       "      <td>66.0</td>\n",
       "      <td>64.1</td>\n",
       "      <td>80.5</td>\n",
       "      <td>72.3</td>\n",
       "      <td>3.54</td>\n",
       "      <td>0</td>\n",
       "      <td>1.19</td>\n",
       "      <td>0</td>\n",
       "    </tr>\n",
       "    <tr>\n",
       "      <th>63</th>\n",
       "      <td>8</td>\n",
       "      <td>1925</td>\n",
       "      <td>50.0</td>\n",
       "      <td>92.0</td>\n",
       "      <td>70.0</td>\n",
       "      <td>67.0</td>\n",
       "      <td>62.3</td>\n",
       "      <td>80.0</td>\n",
       "      <td>71.1</td>\n",
       "      <td>1.40</td>\n",
       "      <td>0</td>\n",
       "      <td>0.47</td>\n",
       "      <td>0</td>\n",
       "    </tr>\n",
       "    <tr>\n",
       "      <th>64</th>\n",
       "      <td>9</td>\n",
       "      <td>1925</td>\n",
       "      <td>41.0</td>\n",
       "      <td>90.0</td>\n",
       "      <td>72.0</td>\n",
       "      <td>56.0</td>\n",
       "      <td>56.0</td>\n",
       "      <td>72.1</td>\n",
       "      <td>64.1</td>\n",
       "      <td>3.45</td>\n",
       "      <td>0</td>\n",
       "      <td>1.46</td>\n",
       "      <td>0</td>\n",
       "    </tr>\n",
       "    <tr>\n",
       "      <th>74</th>\n",
       "      <td>7</td>\n",
       "      <td>1926</td>\n",
       "      <td>56.0</td>\n",
       "      <td>103.0</td>\n",
       "      <td>75.0</td>\n",
       "      <td>64.0</td>\n",
       "      <td>62.6</td>\n",
       "      <td>78.4</td>\n",
       "      <td>70.4</td>\n",
       "      <td>6.06</td>\n",
       "      <td>0</td>\n",
       "      <td>2.33</td>\n",
       "      <td>0</td>\n",
       "    </tr>\n",
       "  </tbody>\n",
       "</table>\n",
       "</div>"
      ],
      "text/plain": [
       "    month  year  low_temp  high_temp  warmest_min  coldest_high  ave_min  \\\n",
       "5       7  1920      56.0       90.0         71.0          65.0     63.4   \n",
       "6       8  1920      56.0       93.0         74.0          69.0     65.2   \n",
       "14      5  1921      41.0       93.0         70.0          48.0     50.0   \n",
       "15      8  1921      55.0       92.0         72.0          69.0     61.5   \n",
       "16      9  1921      53.0       93.0         75.0          64.0     60.1   \n",
       "25      6  1922      52.0       92.0         72.0          59.0     60.8   \n",
       "26      7  1922      58.0       93.0         72.0          64.0     64.4   \n",
       "27      8  1922      54.0       93.0         72.0          65.0     63.4   \n",
       "37      6  1923      47.0       96.0         74.0          53.0     59.6   \n",
       "38      7  1923      56.0       94.0         72.0          62.0     62.2   \n",
       "39      8  1923      51.0       94.0         74.0          63.0     60.5   \n",
       "49      6  1924      48.0       90.0         68.0          58.0     58.2   \n",
       "50      7  1924      58.0       95.0         73.0          68.0     64.8   \n",
       "51      8  1924      56.0       98.0         75.0          68.0     64.4   \n",
       "52      9  1924      44.0       90.0         71.0          59.0     54.4   \n",
       "61      6  1925      53.0      100.0         80.0          59.0     61.1   \n",
       "62      7  1925      54.0       95.0         73.0          66.0     64.1   \n",
       "63      8  1925      50.0       92.0         70.0          67.0     62.3   \n",
       "64      9  1925      41.0       90.0         72.0          56.0     56.0   \n",
       "74      7  1926      56.0      103.0         75.0          64.0     62.6   \n",
       "\n",
       "    ave_max  mean_temp  tot_precip tot_snow  max_24hr_precip max_24hr_snow  \n",
       "5      81.4       72.4        1.56        0             0.76             0  \n",
       "6      78.9       72.0        2.32        0             1.00             0  \n",
       "14     66.1       58.0        3.63        0             1.82             0  \n",
       "15     77.7       69.6        1.63        0             1.12             0  \n",
       "16     76.9       68.5        1.22        0             0.36             0  \n",
       "25     76.5       68.7        8.05        0             3.32             0  \n",
       "26     79.7       72.0        2.63        0             0.86             0  \n",
       "27     77.4       70.4        4.75        0             1.23             0  \n",
       "37     79.0       69.3        2.03        0             1.02             0  \n",
       "38     77.7       69.9        3.36        0             0.78             0  \n",
       "39     78.1       69.3        2.07        0             0.78             0  \n",
       "49     75.1       66.7        1.07        0             0.36             0  \n",
       "50     82.9       73.8        2.04        0             0.70             0  \n",
       "51     79.5       71.9        6.86        0             4.15             0  \n",
       "52     70.0       62.2        6.96        0             3.89             0  \n",
       "61     80.7       70.9        4.59        0             1.36             0  \n",
       "62     80.5       72.3        3.54        0             1.19             0  \n",
       "63     80.0       71.1        1.40        0             0.47             0  \n",
       "64     72.1       64.1        3.45        0             1.46             0  \n",
       "74     78.4       70.4        6.06        0             2.33             0  "
      ]
     },
     "execution_count": 155,
     "metadata": {},
     "output_type": "execute_result"
    }
   ],
   "source": [
    "# Select and output the first 20 rows of data from the clean_boston_data where the Year \n",
    "# is 1995 OR the high_temp is greater than 89\n",
    "clean_boston_data[(clean_boston_data['year']==1995) | \n",
    "                  (clean_boston_data['high_temp']>89)].head(20)"
   ]
  },
  {
   "cell_type": "markdown",
   "id": "a65cdfa0",
   "metadata": {},
   "source": [
    "## Question 2"
   ]
  },
  {
   "cell_type": "markdown",
   "id": "93b0a5c7",
   "metadata": {},
   "source": [
    "<b>a)</b>\tRead the student_data file provided into Python (take note of the file extension to use the appropriate pandas reader to read the data).  Drop the first empty column in Python and assign the DataFrame to a variable student_data.  "
   ]
  },
  {
   "cell_type": "code",
   "execution_count": null,
   "id": "5ebe86ba",
   "metadata": {},
   "outputs": [],
   "source": []
  },
  {
   "cell_type": "markdown",
   "id": "10d31d82",
   "metadata": {},
   "source": [
    "<b>b)</b>\tThe student_data shows the different midterm scores of students in math, reading and science, and their favorite ice cream flavors. Select the data in the ice_cream_flavor column and convert the flavors to a numpy array, then assign it to a variable called flavor. From the student_data, select the math, reading and science scores all at once and convert the selected data to a numpy array and assign it to a variable called scores. Print the data in the flavor and scores arrays. "
   ]
  },
  {
   "cell_type": "code",
   "execution_count": null,
   "id": "99d5098f",
   "metadata": {},
   "outputs": [],
   "source": []
  },
  {
   "cell_type": "markdown",
   "id": "f93b9b42",
   "metadata": {},
   "source": [
    "<b>c)</b>\tUse the scores and flavor arrays to slice out the scores where the flavor is chocolate only. "
   ]
  },
  {
   "cell_type": "code",
   "execution_count": null,
   "id": "edc39045",
   "metadata": {},
   "outputs": [],
   "source": []
  },
  {
   "cell_type": "markdown",
   "id": "2333c82b",
   "metadata": {},
   "source": [
    "<b>d)</b>\tUse the scores and flavor arrays to slice out the scores where the flavor is chocolate OR vanilla. "
   ]
  },
  {
   "cell_type": "code",
   "execution_count": null,
   "id": "d499c707",
   "metadata": {},
   "outputs": [],
   "source": []
  },
  {
   "cell_type": "markdown",
   "id": "31dcfe9c",
   "metadata": {},
   "source": [
    "<b>e)</b>\tUse the scores and flavor arrays to slice out the scores where the flavor is not chocolate (you can use the “~ “sign). "
   ]
  },
  {
   "cell_type": "code",
   "execution_count": null,
   "id": "523c5741",
   "metadata": {},
   "outputs": [],
   "source": []
  },
  {
   "cell_type": "markdown",
   "id": "91253599",
   "metadata": {},
   "source": [
    "<b>f)</b>\tSlice out all math and reading scores where the flavor is chocolate, then compute the mean of math and reading scores for this subset (you can use the .mean() method on the array and specify the axis parameter value appropriately). "
   ]
  },
  {
   "cell_type": "code",
   "execution_count": null,
   "id": "41a09c2f",
   "metadata": {},
   "outputs": [],
   "source": []
  },
  {
   "cell_type": "markdown",
   "id": "387ca021",
   "metadata": {},
   "source": [
    "## Question 3"
   ]
  },
  {
   "cell_type": "markdown",
   "id": "ed0b38c7",
   "metadata": {},
   "source": [
    "Imagine that you wanted to use the student_data in question 2a to make predictions such that the ice_cream_flavor, math and reading columns are input variables and science column is the output variable you want to predict. "
   ]
  },
  {
   "cell_type": "markdown",
   "id": "4ad515cc",
   "metadata": {},
   "source": [
    "<b>a)</b>\tUse the LabelBinarizer() in the sklearn package to transform the ice_cream_flavor column in the student_data to dummy variables, then join these dummy variables to the student_data and drop the original ice_cream_flavor column. Reassign the resulting DataFrame to a variable called student_data_1. Print out the entire student_data_1 DataFrame "
   ]
  },
  {
   "cell_type": "code",
   "execution_count": null,
   "id": "0399f471",
   "metadata": {},
   "outputs": [],
   "source": []
  },
  {
   "cell_type": "markdown",
   "id": "b598e7ac",
   "metadata": {},
   "source": [
    "<b>b)</b>\tExtract the math, reading and science scores and use the StandardScaler() class in the sklearn.preprocessing module to standardize these scores, then merge the standardized scores to the dummy variables (you need to extract the dummy variables from student_data_1), and call the resulting DataFrame student_data_std. Print out the entire student_data_std DataFrame. "
   ]
  },
  {
   "cell_type": "code",
   "execution_count": null,
   "id": "8eac3e19",
   "metadata": {},
   "outputs": [],
   "source": []
  },
  {
   "cell_type": "markdown",
   "id": "cdfabc6c",
   "metadata": {},
   "source": [
    "<b>c)</b>\tUsing a split ratio of 70:30, spit the student_data_std into training and test set. Reference the input and output of the training set as X_train and y_train respectively. Also reference the input and output of the test set as X_test and y_test respectively. Print X_train, y_train, X_test and y_test. "
   ]
  },
  {
   "cell_type": "code",
   "execution_count": null,
   "id": "146b4d11",
   "metadata": {},
   "outputs": [],
   "source": []
  },
  {
   "cell_type": "markdown",
   "id": "381d41a8",
   "metadata": {},
   "source": [
    "<b>d)</b>\tUsing the boston_1 DataFrame in question 1a, select the LowTemp, HighTemp, WarmestMin, ColdestHigh, AveMin, AveMax columns and use the “pipeline” functionality in sklearn to transform the selected data using the MinMaxScalar() and Imputer() classes.  With the Imputer() class, the missing data in each column should be imputed using the mean value for the column. Assign the resulting DataFrame to a variable called pipeline_data. Print the pipeline_data"
   ]
  },
  {
   "cell_type": "code",
   "execution_count": null,
   "id": "e29915c7",
   "metadata": {},
   "outputs": [],
   "source": []
  },
  {
   "cell_type": "markdown",
   "id": "f9f566af",
   "metadata": {},
   "source": [
    "<b>e)</b>\tOutput the descriptive statistics of the pipeline_data including mean, median, variance, minimum value, maximum value, variance, standard deviation and skewness. Your results should be in a single data frame and you can do this in a single line of code using .apply() or .agg() functionality of the pandas DataFrame."
   ]
  },
  {
   "cell_type": "code",
   "execution_count": null,
   "id": "7a494771",
   "metadata": {},
   "outputs": [],
   "source": []
  }
 ],
 "metadata": {
  "kernelspec": {
   "display_name": "Python 3 (ipykernel)",
   "language": "python",
   "name": "python3"
  },
  "language_info": {
   "codemirror_mode": {
    "name": "ipython",
    "version": 3
   },
   "file_extension": ".py",
   "mimetype": "text/x-python",
   "name": "python",
   "nbconvert_exporter": "python",
   "pygments_lexer": "ipython3",
   "version": "3.10.0"
  }
 },
 "nbformat": 4,
 "nbformat_minor": 5
}
