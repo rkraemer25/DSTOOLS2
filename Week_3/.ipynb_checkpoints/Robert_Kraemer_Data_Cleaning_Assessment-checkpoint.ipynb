{
 "cells": [
  {
   "cell_type": "markdown",
   "id": "6c51c8ce",
   "metadata": {},
   "source": [
    "# COMP 4448: Data Science Tools II - Data Cleaning Assessment"
   ]
  },
  {
   "cell_type": "markdown",
   "id": "0f69ade1",
   "metadata": {},
   "source": [
    "### Robert Kraemer\n",
    "\n",
    "<b>Due:</b> Oct 3 at 11:59pm "
   ]
  },
  {
   "cell_type": "markdown",
   "id": "60a9ba34",
   "metadata": {},
   "source": [
    "<b>Background Information:</b> The United States Census Bureau, leads the country’s Federal Statistical System; its primary responsibility is to collect data about the American people and economy to help inform strategic initiatives. Every ten years, the census is conducted to mine information regarding the US population to inform the allocation of billions of dollars of funding to various endeavors (e.g., the building and maintaining of hospitals, schools, fire departments, transportation infrastructure, etc.). Additionally, the collection of census information helps examine the demographic characteristics of subpopulations across the country."
   ]
  },
  {
   "cell_type": "markdown",
   "id": "930dff0a",
   "metadata": {},
   "source": [
    "<b>Packages:</b> "
   ]
  },
  {
   "cell_type": "code",
   "execution_count": 476,
   "id": "98e6b3f5",
   "metadata": {},
   "outputs": [],
   "source": [
    "import numpy as np\n",
    "import pandas as pd\n",
    "import seaborn as sns\n",
    "import scipy.stats as stats\n",
    "import matplotlib.pyplot as plt"
   ]
  },
  {
   "cell_type": "markdown",
   "id": "7fcb0dc5",
   "metadata": {},
   "source": [
    "### The Data\n",
    "\n",
    "You have provided a sample dataset from the US Census archive containing detailed, anonymized information for ~300,000 individuals. This archive contains three files:\n",
    "\n",
    "1. census_income_metadata.txt (metadata for both datasets)."
   ]
  },
  {
   "cell_type": "code",
   "execution_count": 477,
   "id": "4ce01007",
   "metadata": {},
   "outputs": [],
   "source": [
    "col_names = ['AAGE','ACLSWKR','ADTIND','ADTOCC','AHGA','AHRSPAY','AHSCOL','AMARITL','AMJIND','AMJOCC', \n",
    "             'ARACE','AREORGN','ASEX','AUNMEM','AUNTYPE','AWKSTAT','CAPGAIN','CAPLOSS','DIVVAL','FILESTAT',\n",
    "             'GRINREG','GRINST','HHDFMX','HHDREL','MARSUPWT','MIGMTR1','MIGMTR3','MIGMTR4','MIGSAME','MIGSUN',\n",
    "             'NOEMP','PARENT','PEFNTVTY','PEMNTVTY','PENATVTY','PRCITSHP','SEOTR','VETQVA','VETYN','WKSWORK',\n",
    "             'YEAR','TARGET']"
   ]
  },
  {
   "cell_type": "markdown",
   "id": "1a33c2b9",
   "metadata": {},
   "source": [
    "2. census_income_train.csv (data for model training)"
   ]
  },
  {
   "cell_type": "code",
   "execution_count": 478,
   "id": "6305015b",
   "metadata": {},
   "outputs": [
    {
     "data": {
      "text/plain": [
       "(199523, 42)"
      ]
     },
     "execution_count": 478,
     "metadata": {},
     "output_type": "execute_result"
    }
   ],
   "source": [
    "census_income_train = pd.read_csv('census_income_train.csv', index_col=False, names=col_names, header=None, skipinitialspace=True)\n",
    "census_income_train.shape"
   ]
  },
  {
   "cell_type": "markdown",
   "id": "eec7948d",
   "metadata": {},
   "source": [
    "3. census_income_test.csv (data for model testing)"
   ]
  },
  {
   "cell_type": "code",
   "execution_count": 479,
   "id": "9bc928aa",
   "metadata": {},
   "outputs": [
    {
     "data": {
      "text/plain": [
       "(99762, 42)"
      ]
     },
     "execution_count": 479,
     "metadata": {},
     "output_type": "execute_result"
    }
   ],
   "source": [
    "census_income_test = pd.read_csv('census_income_test.csv', index_col=False, names=col_names, header=None, skipinitialspace=True)\n",
    "census_income_test.shape"
   ]
  },
  {
   "cell_type": "markdown",
   "id": "ae36236a",
   "metadata": {},
   "source": [
    "Problem Statement.\n",
    "\n",
    " For this technical assessment, you are tasked with the responsibility of cleaning and exploring the data\n",
    "\n",
    "Considerations for your data analysis should include but are not limited to the following:\n",
    "\n",
    "• <b>Data Preparation:</b> Data cleaning, preprocessing, feature engineering, etc., that may aid in improving data clarity\n",
    "\n",
    "The goal is to later use this data to identify characteristics associated with a person making more or less than $50,000 per year; the target variable for your research question is the final column of the datasets.  This goal is to be achieved in another assignment, you only need to prepare and explore the data at this time, but it is good to have the big picture of what will be done later with this data later in the course. You will later use the clean data in another assignment (week 9) for predictive modeling. \n",
    "\n",
    "• <b>Exploratory Data Analysis:</b> Numerical and graphical representations of the data may help inform insights and tactics for answering the research question of interest."
   ]
  },
  {
   "cell_type": "markdown",
   "id": "c966d311",
   "metadata": {},
   "source": [
    "Here is my advice for you, there is more you can do:"
   ]
  },
  {
   "cell_type": "markdown",
   "id": "6e51a0ee",
   "metadata": {},
   "source": [
    "1. Clean the data first, (and your data cleaning could include (but is not limited to) the following:"
   ]
  },
  {
   "cell_type": "markdown",
   "id": "90c537f7",
   "metadata": {},
   "source": [
    "- Clean text values, normalize the text: remove white spaces, etc."
   ]
  },
  {
   "cell_type": "markdown",
   "id": "0241cedf",
   "metadata": {},
   "source": [
    "- Inspect unique values to all variables (you can use a loop) to ensure weird values are not in the data. You may find question marks etc., as values, which you will need to deal with."
   ]
  },
  {
   "cell_type": "markdown",
   "id": "81c5e539",
   "metadata": {},
   "source": [
    "- Make certain variable types are set correctly for each variable; you can use a for loop or/and create a function to do this"
   ]
  },
  {
   "cell_type": "markdown",
   "id": "95bbb387",
   "metadata": {},
   "source": [
    "- Check missing values, and decide how to deal with missingness... it might be advisable to drop available if it is missing more than 30 percent of the data "
   ]
  },
  {
   "cell_type": "markdown",
   "id": "1874d19a",
   "metadata": {},
   "source": [
    "- Handle other issues you may identify with the data"
   ]
  },
  {
   "cell_type": "code",
   "execution_count": 480,
   "id": "76d3d31f",
   "metadata": {},
   "outputs": [
    {
     "name": "stdout",
     "output_type": "stream",
     "text": [
      "<class 'pandas.core.frame.DataFrame'>\n",
      "RangeIndex: 199523 entries, 0 to 199522\n",
      "Data columns (total 42 columns):\n",
      " #   Column    Non-Null Count   Dtype  \n",
      "---  ------    --------------   -----  \n",
      " 0   AAGE      199523 non-null  int64  \n",
      " 1   ACLSWKR   199523 non-null  object \n",
      " 2   ADTIND    199523 non-null  int64  \n",
      " 3   ADTOCC    199523 non-null  int64  \n",
      " 4   AHGA      199523 non-null  object \n",
      " 5   AHRSPAY   199523 non-null  int64  \n",
      " 6   AHSCOL    199523 non-null  object \n",
      " 7   AMARITL   199523 non-null  object \n",
      " 8   AMJIND    199523 non-null  object \n",
      " 9   AMJOCC    199523 non-null  object \n",
      " 10  ARACE     199523 non-null  object \n",
      " 11  AREORGN   198649 non-null  object \n",
      " 12  ASEX      199523 non-null  object \n",
      " 13  AUNMEM    199523 non-null  object \n",
      " 14  AUNTYPE   199523 non-null  object \n",
      " 15  AWKSTAT   199523 non-null  object \n",
      " 16  CAPGAIN   199523 non-null  int64  \n",
      " 17  CAPLOSS   199523 non-null  int64  \n",
      " 18  DIVVAL    199523 non-null  int64  \n",
      " 19  FILESTAT  199523 non-null  object \n",
      " 20  GRINREG   199523 non-null  object \n",
      " 21  GRINST    199523 non-null  object \n",
      " 22  HHDFMX    199523 non-null  object \n",
      " 23  HHDREL    199523 non-null  object \n",
      " 24  MARSUPWT  199523 non-null  float64\n",
      " 25  MIGMTR1   199523 non-null  object \n",
      " 26  MIGMTR3   199523 non-null  object \n",
      " 27  MIGMTR4   199523 non-null  object \n",
      " 28  MIGSAME   199523 non-null  object \n",
      " 29  MIGSUN    199523 non-null  object \n",
      " 30  NOEMP     199523 non-null  int64  \n",
      " 31  PARENT    199523 non-null  object \n",
      " 32  PEFNTVTY  199523 non-null  object \n",
      " 33  PEMNTVTY  199523 non-null  object \n",
      " 34  PENATVTY  199523 non-null  object \n",
      " 35  PRCITSHP  199523 non-null  object \n",
      " 36  SEOTR     199523 non-null  int64  \n",
      " 37  VETQVA    199523 non-null  object \n",
      " 38  VETYN     199523 non-null  int64  \n",
      " 39  WKSWORK   199523 non-null  int64  \n",
      " 40  YEAR      199523 non-null  int64  \n",
      " 41  TARGET    199523 non-null  object \n",
      "dtypes: float64(1), int64(12), object(29)\n",
      "memory usage: 63.9+ MB\n"
     ]
    }
   ],
   "source": [
    "census_income_train.info()"
   ]
  },
  {
   "cell_type": "code",
   "execution_count": 481,
   "id": "2e8ede6b",
   "metadata": {},
   "outputs": [],
   "source": [
    "def convert_missing_values(df): \n",
    "    identifiers = ['?','NA','nan','Do not know','Not in universe','Not identifiable',\n",
    "                   'Not in universe or children','Not in universe under 1 year old']\n",
    "    df.replace(to_replace=identifiers, value=np.NaN, inplace=True) \n",
    "    \n",
    "def cols_to_int(df):\n",
    "    cols = ['AAGE','AHRSPAY','CAPGAIN','CAPLOSS','DIVVAL','NOEMP','WKSWORK']\n",
    "    df[cols] = df[cols].astype('int')\n",
    "    \n",
    "def cols_to_category(df):\n",
    "    cols = ['ACLSWKR','ADTIND','ADTOCC','AHGA','AHSCOL','AMARITL','AMJIND','AMJOCC','ARACE','AREORGN',\n",
    "            'ASEX','AUNMEM','AUNTYPE','AWKSTAT','FILESTAT','GRINREG','GRINST','HHDFMX','HHDREL','MIGMTR1',\n",
    "            'MIGMTR3','MIGMTR4','MIGSAME','MIGSUN','PARENT','PEFNTVTY','PEMNTVTY','PENATVTY','PRCITSHP','SEOTR', \n",
    "            'VETQVA', 'VETYN', 'YEAR', 'TARGET']\n",
    "    df[cols] = df[cols].astype('category')\n",
    "    \n",
    "def ignore_marsupwt(df):\n",
    "    try:\n",
    "        cols = ['MARSUPWT']\n",
    "        df.drop(cols, inplace=True, axis=1)\n",
    "    except:\n",
    "        print('MARSUPWT has already been dropped')\n",
    "        \n",
    "def drop_variables_missing_gte_30(df_list):\n",
    "    try:\n",
    "        cols = df_list[0].columns[df_list[0].isna().sum()>.3*len(df_list[0])]\n",
    "        for df in df_list: \n",
    "            df.drop(cols, inplace=True, axis=1)\n",
    "    except:\n",
    "        print('Columns have already been dropped')\n",
    "    \n",
    "def clean_data(dataframe_list): \n",
    "    for dataframe in dataframe_list: \n",
    "        convert_missing_values(dataframe)\n",
    "        cols_to_int(dataframe)\n",
    "        cols_to_category(dataframe)\n",
    "        ignore_marsupwt(dataframe)\n",
    "    drop_variables_missing_gte_30(dataframe_list)\n",
    "        "
   ]
  },
  {
   "cell_type": "code",
   "execution_count": 482,
   "id": "4198a540",
   "metadata": {},
   "outputs": [],
   "source": [
    "clean_data([census_income_train, census_income_test])"
   ]
  },
  {
   "cell_type": "code",
   "execution_count": 483,
   "id": "8202c274",
   "metadata": {},
   "outputs": [
    {
     "name": "stdout",
     "output_type": "stream",
     "text": [
      "Train: (199523, 26)\n",
      "Test: (99762, 26)\n"
     ]
    }
   ],
   "source": [
    "print('Train:', census_income_train.shape)\n",
    "print('Test:', census_income_test.shape)"
   ]
  },
  {
   "cell_type": "code",
   "execution_count": 484,
   "id": "b0e185df",
   "metadata": {},
   "outputs": [
    {
     "name": "stdout",
     "output_type": "stream",
     "text": [
      "<class 'pandas.core.frame.DataFrame'>\n",
      "RangeIndex: 199523 entries, 0 to 199522\n",
      "Data columns (total 26 columns):\n",
      " #   Column    Non-Null Count   Dtype   \n",
      "---  ------    --------------   -----   \n",
      " 0   AAGE      199523 non-null  int64   \n",
      " 1   ADTIND    199523 non-null  category\n",
      " 2   ADTOCC    199523 non-null  category\n",
      " 3   AHGA      199523 non-null  category\n",
      " 4   AHRSPAY   199523 non-null  int64   \n",
      " 5   AMARITL   199523 non-null  category\n",
      " 6   ARACE     199523 non-null  category\n",
      " 7   AREORGN   198343 non-null  category\n",
      " 8   ASEX      199523 non-null  category\n",
      " 9   AWKSTAT   199523 non-null  category\n",
      " 10  CAPGAIN   199523 non-null  int64   \n",
      " 11  CAPLOSS   199523 non-null  int64   \n",
      " 12  DIVVAL    199523 non-null  int64   \n",
      " 13  FILESTAT  199523 non-null  category\n",
      " 14  HHDFMX    199523 non-null  category\n",
      " 15  HHDREL    199523 non-null  category\n",
      " 16  NOEMP     199523 non-null  int64   \n",
      " 17  PEFNTVTY  192810 non-null  category\n",
      " 18  PEMNTVTY  193404 non-null  category\n",
      " 19  PENATVTY  196130 non-null  category\n",
      " 20  PRCITSHP  199523 non-null  category\n",
      " 21  SEOTR     199523 non-null  category\n",
      " 22  VETYN     199523 non-null  category\n",
      " 23  WKSWORK   199523 non-null  int64   \n",
      " 24  YEAR      199523 non-null  category\n",
      " 25  TARGET    199523 non-null  category\n",
      "dtypes: category(19), int64(7)\n",
      "memory usage: 14.3 MB\n"
     ]
    }
   ],
   "source": [
    "census_income_train.info()"
   ]
  },
  {
   "cell_type": "markdown",
   "id": "4ef2c949",
   "metadata": {},
   "source": [
    "2. Explore the distribution of the target variable,"
   ]
  },
  {
   "cell_type": "code",
   "execution_count": 485,
   "id": "084cdfc0",
   "metadata": {
    "scrolled": true
   },
   "outputs": [
    {
     "data": {
      "image/png": "[encoded data removed]",
      "text/plain": [
       "<Figure size 460.8x345.6 with 1 Axes>"
      ]
     },
     "metadata": {
      "needs_background": "light"
     },
     "output_type": "display_data"
    }
   ],
   "source": [
    "sns.histplot(census_income_train.TARGET, color='blue', label='TRAIN')\n",
    "sns.histplot(census_income_test.TARGET, color='red', label='TEST')\n",
    "plt.legend()\n",
    "plt.show()"
   ]
  },
  {
   "cell_type": "markdown",
   "id": "5e89ebe5",
   "metadata": {},
   "source": [
    "3. Explore descriptive statistics of numerical variables and explore other things that are of interest to you. "
   ]
  },
  {
   "cell_type": "code",
   "execution_count": 486,
   "id": "89c7f744",
   "metadata": {},
   "outputs": [
    {
     "data": {
      "text/html": [
       "<div>\n",
       "<style scoped>\n",
       "    .dataframe tbody tr th:only-of-type {\n",
       "        vertical-align: middle;\n",
       "    }\n",
       "\n",
       "    .dataframe tbody tr th {\n",
       "        vertical-align: top;\n",
       "    }\n",
       "\n",
       "    .dataframe thead th {\n",
       "        text-align: right;\n",
       "    }\n",
       "</style>\n",
       "<table border=\"1\" class=\"dataframe\">\n",
       "  <thead>\n",
       "    <tr style=\"text-align: right;\">\n",
       "      <th></th>\n",
       "      <th>AAGE</th>\n",
       "      <th>AHRSPAY</th>\n",
       "      <th>CAPGAIN</th>\n",
       "      <th>CAPLOSS</th>\n",
       "      <th>DIVVAL</th>\n",
       "      <th>NOEMP</th>\n",
       "      <th>WKSWORK</th>\n",
       "    </tr>\n",
       "  </thead>\n",
       "  <tbody>\n",
       "    <tr>\n",
       "      <th>mean</th>\n",
       "      <td>34.494199</td>\n",
       "      <td>55.426908</td>\n",
       "      <td>4.347190e+02</td>\n",
       "      <td>37.313788</td>\n",
       "      <td>1.975295e+02</td>\n",
       "      <td>1.956180</td>\n",
       "      <td>23.174897</td>\n",
       "    </tr>\n",
       "    <tr>\n",
       "      <th>median</th>\n",
       "      <td>33.000000</td>\n",
       "      <td>0.000000</td>\n",
       "      <td>0.000000e+00</td>\n",
       "      <td>0.000000</td>\n",
       "      <td>0.000000e+00</td>\n",
       "      <td>1.000000</td>\n",
       "      <td>8.000000</td>\n",
       "    </tr>\n",
       "    <tr>\n",
       "      <th>min</th>\n",
       "      <td>0.000000</td>\n",
       "      <td>0.000000</td>\n",
       "      <td>0.000000e+00</td>\n",
       "      <td>0.000000</td>\n",
       "      <td>0.000000e+00</td>\n",
       "      <td>0.000000</td>\n",
       "      <td>0.000000</td>\n",
       "    </tr>\n",
       "    <tr>\n",
       "      <th>max</th>\n",
       "      <td>90.000000</td>\n",
       "      <td>9999.000000</td>\n",
       "      <td>9.999900e+04</td>\n",
       "      <td>4608.000000</td>\n",
       "      <td>9.999900e+04</td>\n",
       "      <td>6.000000</td>\n",
       "      <td>52.000000</td>\n",
       "    </tr>\n",
       "    <tr>\n",
       "      <th>var</th>\n",
       "      <td>497.776045</td>\n",
       "      <td>75568.060368</td>\n",
       "      <td>2.206680e+07</td>\n",
       "      <td>73927.667758</td>\n",
       "      <td>3.936905e+06</td>\n",
       "      <td>5.593819</td>\n",
       "      <td>595.920755</td>\n",
       "    </tr>\n",
       "    <tr>\n",
       "      <th>std</th>\n",
       "      <td>22.310895</td>\n",
       "      <td>274.896454</td>\n",
       "      <td>4.697531e+03</td>\n",
       "      <td>271.896428</td>\n",
       "      <td>1.984164e+03</td>\n",
       "      <td>2.365126</td>\n",
       "      <td>24.411488</td>\n",
       "    </tr>\n",
       "    <tr>\n",
       "      <th>skew</th>\n",
       "      <td>0.373290</td>\n",
       "      <td>8.935097</td>\n",
       "      <td>1.899082e+01</td>\n",
       "      <td>7.632565</td>\n",
       "      <td>2.778650e+01</td>\n",
       "      <td>0.751561</td>\n",
       "      <td>0.210169</td>\n",
       "    </tr>\n",
       "    <tr>\n",
       "      <th>kurtosis</th>\n",
       "      <td>-0.732824</td>\n",
       "      <td>NaN</td>\n",
       "      <td>NaN</td>\n",
       "      <td>NaN</td>\n",
       "      <td>NaN</td>\n",
       "      <td>NaN</td>\n",
       "      <td>NaN</td>\n",
       "    </tr>\n",
       "  </tbody>\n",
       "</table>\n",
       "</div>"
      ],
      "text/plain": [
       "                AAGE       AHRSPAY       CAPGAIN       CAPLOSS        DIVVAL  \\\n",
       "mean       34.494199     55.426908  4.347190e+02     37.313788  1.975295e+02   \n",
       "median     33.000000      0.000000  0.000000e+00      0.000000  0.000000e+00   \n",
       "min         0.000000      0.000000  0.000000e+00      0.000000  0.000000e+00   \n",
       "max        90.000000   9999.000000  9.999900e+04   4608.000000  9.999900e+04   \n",
       "var       497.776045  75568.060368  2.206680e+07  73927.667758  3.936905e+06   \n",
       "std        22.310895    274.896454  4.697531e+03    271.896428  1.984164e+03   \n",
       "skew        0.373290      8.935097  1.899082e+01      7.632565  2.778650e+01   \n",
       "kurtosis   -0.732824           NaN           NaN           NaN           NaN   \n",
       "\n",
       "             NOEMP     WKSWORK  \n",
       "mean      1.956180   23.174897  \n",
       "median    1.000000    8.000000  \n",
       "min       0.000000    0.000000  \n",
       "max       6.000000   52.000000  \n",
       "var       5.593819  595.920755  \n",
       "std       2.365126   24.411488  \n",
       "skew      0.751561    0.210169  \n",
       "kurtosis       NaN         NaN  "
      ]
     },
     "execution_count": 486,
     "metadata": {},
     "output_type": "execute_result"
    }
   ],
   "source": [
    "census_income_train.agg({\"AAGE\": ['mean', 'median', 'min', 'max', 'var', 'std', 'skew', 'kurtosis'],\n",
    "                   \"AHRSPAY\": ['mean', 'median', 'min', 'max', 'var', 'std', 'skew'],\n",
    "                   \"CAPGAIN\": ['mean', 'median', 'min', 'max', 'var', 'std', 'skew'],\n",
    "                   \"CAPLOSS\": ['mean', 'median', 'min', 'max', 'var', 'std', 'skew'],\n",
    "                   \"DIVVAL\": ['mean', 'median', 'min', 'max', 'var', 'std', 'skew'],\n",
    "                   \"NOEMP\": ['mean', 'median', 'min', 'max', 'var', 'std', 'skew'],\n",
    "                   \"WKSWORK\": ['mean', 'median', 'min', 'max', 'var', 'std', 'skew']\n",
    "                  })"
   ]
  },
  {
   "cell_type": "code",
   "execution_count": 487,
   "id": "9b2f6b12",
   "metadata": {},
   "outputs": [
    {
     "data": {
      "text/html": [
       "<div>\n",
       "<style scoped>\n",
       "    .dataframe tbody tr th:only-of-type {\n",
       "        vertical-align: middle;\n",
       "    }\n",
       "\n",
       "    .dataframe tbody tr th {\n",
       "        vertical-align: top;\n",
       "    }\n",
       "\n",
       "    .dataframe thead th {\n",
       "        text-align: right;\n",
       "    }\n",
       "</style>\n",
       "<table border=\"1\" class=\"dataframe\">\n",
       "  <thead>\n",
       "    <tr style=\"text-align: right;\">\n",
       "      <th></th>\n",
       "      <th>AAGE</th>\n",
       "      <th>AHRSPAY</th>\n",
       "      <th>CAPGAIN</th>\n",
       "      <th>CAPLOSS</th>\n",
       "      <th>DIVVAL</th>\n",
       "      <th>NOEMP</th>\n",
       "      <th>WKSWORK</th>\n",
       "    </tr>\n",
       "  </thead>\n",
       "  <tbody>\n",
       "    <tr>\n",
       "      <th>mean</th>\n",
       "      <td>34.628596</td>\n",
       "      <td>54.461268</td>\n",
       "      <td>4.257886e+02</td>\n",
       "      <td>35.919458</td>\n",
       "      <td>1.924947e+02</td>\n",
       "      <td>1.956156</td>\n",
       "      <td>23.185331</td>\n",
       "    </tr>\n",
       "    <tr>\n",
       "      <th>median</th>\n",
       "      <td>33.000000</td>\n",
       "      <td>0.000000</td>\n",
       "      <td>0.000000e+00</td>\n",
       "      <td>0.000000</td>\n",
       "      <td>0.000000e+00</td>\n",
       "      <td>1.000000</td>\n",
       "      <td>8.000000</td>\n",
       "    </tr>\n",
       "    <tr>\n",
       "      <th>min</th>\n",
       "      <td>0.000000</td>\n",
       "      <td>0.000000</td>\n",
       "      <td>0.000000e+00</td>\n",
       "      <td>0.000000</td>\n",
       "      <td>0.000000e+00</td>\n",
       "      <td>0.000000</td>\n",
       "      <td>0.000000</td>\n",
       "    </tr>\n",
       "    <tr>\n",
       "      <th>max</th>\n",
       "      <td>90.000000</td>\n",
       "      <td>9900.000000</td>\n",
       "      <td>9.999900e+04</td>\n",
       "      <td>4608.000000</td>\n",
       "      <td>9.999900e+04</td>\n",
       "      <td>6.000000</td>\n",
       "      <td>52.000000</td>\n",
       "    </tr>\n",
       "    <tr>\n",
       "      <th>var</th>\n",
       "      <td>498.782939</td>\n",
       "      <td>73009.468318</td>\n",
       "      <td>2.131480e+07</td>\n",
       "      <td>70503.659244</td>\n",
       "      <td>3.391964e+06</td>\n",
       "      <td>5.590062</td>\n",
       "      <td>594.832313</td>\n",
       "    </tr>\n",
       "    <tr>\n",
       "      <th>std</th>\n",
       "      <td>22.333449</td>\n",
       "      <td>270.202643</td>\n",
       "      <td>4.616796e+03</td>\n",
       "      <td>265.525252</td>\n",
       "      <td>1.841728e+03</td>\n",
       "      <td>2.364331</td>\n",
       "      <td>24.389184</td>\n",
       "    </tr>\n",
       "    <tr>\n",
       "      <th>skew</th>\n",
       "      <td>0.371770</td>\n",
       "      <td>8.757473</td>\n",
       "      <td>1.929506e+01</td>\n",
       "      <td>7.795863</td>\n",
       "      <td>2.537008e+01</td>\n",
       "      <td>0.753843</td>\n",
       "      <td>0.209719</td>\n",
       "    </tr>\n",
       "    <tr>\n",
       "      <th>kurtosis</th>\n",
       "      <td>-0.734737</td>\n",
       "      <td>NaN</td>\n",
       "      <td>NaN</td>\n",
       "      <td>NaN</td>\n",
       "      <td>NaN</td>\n",
       "      <td>NaN</td>\n",
       "      <td>NaN</td>\n",
       "    </tr>\n",
       "  </tbody>\n",
       "</table>\n",
       "</div>"
      ],
      "text/plain": [
       "                AAGE       AHRSPAY       CAPGAIN       CAPLOSS        DIVVAL  \\\n",
       "mean       34.628596     54.461268  4.257886e+02     35.919458  1.924947e+02   \n",
       "median     33.000000      0.000000  0.000000e+00      0.000000  0.000000e+00   \n",
       "min         0.000000      0.000000  0.000000e+00      0.000000  0.000000e+00   \n",
       "max        90.000000   9900.000000  9.999900e+04   4608.000000  9.999900e+04   \n",
       "var       498.782939  73009.468318  2.131480e+07  70503.659244  3.391964e+06   \n",
       "std        22.333449    270.202643  4.616796e+03    265.525252  1.841728e+03   \n",
       "skew        0.371770      8.757473  1.929506e+01      7.795863  2.537008e+01   \n",
       "kurtosis   -0.734737           NaN           NaN           NaN           NaN   \n",
       "\n",
       "             NOEMP     WKSWORK  \n",
       "mean      1.956156   23.185331  \n",
       "median    1.000000    8.000000  \n",
       "min       0.000000    0.000000  \n",
       "max       6.000000   52.000000  \n",
       "var       5.590062  594.832313  \n",
       "std       2.364331   24.389184  \n",
       "skew      0.753843    0.209719  \n",
       "kurtosis       NaN         NaN  "
      ]
     },
     "execution_count": 487,
     "metadata": {},
     "output_type": "execute_result"
    }
   ],
   "source": [
    "census_income_test.agg({\"AAGE\": ['mean', 'median', 'min', 'max', 'var', 'std', 'skew', 'kurtosis'],\n",
    "                   \"AHRSPAY\": ['mean', 'median', 'min', 'max', 'var', 'std', 'skew'],\n",
    "                   \"CAPGAIN\": ['mean', 'median', 'min', 'max', 'var', 'std', 'skew'],\n",
    "                   \"CAPLOSS\": ['mean', 'median', 'min', 'max', 'var', 'std', 'skew'],\n",
    "                   \"DIVVAL\": ['mean', 'median', 'min', 'max', 'var', 'std', 'skew'],\n",
    "                   \"NOEMP\": ['mean', 'median', 'min', 'max', 'var', 'std', 'skew'],\n",
    "                   \"WKSWORK\": ['mean', 'median', 'min', 'max', 'var', 'std', 'skew']\n",
    "                  })"
   ]
  },
  {
   "cell_type": "code",
   "execution_count": 488,
   "id": "62554218",
   "metadata": {},
   "outputs": [
    {
     "data": {
      "image/png": "[encoded data removed]",
      "text/plain": [
       "<Figure size 720x720 with 2 Axes>"
      ]
     },
     "metadata": {
      "needs_background": "light"
     },
     "output_type": "display_data"
    }
   ],
   "source": [
    "plt.rcParams['figure.figsize'] = (10,10)\n",
    "corr = census_income_train.corr()\n",
    "sns.heatmap(corr, annot=True, square=True, fmt=\".2%\")\n",
    "plt.show()\n",
    "plt.rcParams['figure.figsize'] = plt.rcParamsDefault['figure.figsize']"
   ]
  },
  {
   "cell_type": "code",
   "execution_count": 489,
   "id": "c1ca08d4",
   "metadata": {},
   "outputs": [
    {
     "data": {
      "image/png": "[encoded data removed]",
      "text/plain": [
       "<Figure size 460.8x345.6 with 1 Axes>"
      ]
     },
     "metadata": {
      "needs_background": "light"
     },
     "output_type": "display_data"
    }
   ],
   "source": [
    "sns.kdeplot(census_income_train.AAGE, shade=True, label='TRAIN')\n",
    "sns.kdeplot(census_income_test.AAGE, shade=True, label='TEST')\n",
    "plt.legend()\n",
    "plt.show()"
   ]
  },
  {
   "cell_type": "code",
   "execution_count": 490,
   "id": "cc442c61",
   "metadata": {},
   "outputs": [],
   "source": [
    "# sns.kdeplot(census_income_train.AHRSPAY, shade=True, label='TRAIN')\n",
    "# sns.kdeplot(census_income_test.AHRSPAY, shade=True, label='TEST')\n",
    "# plt.legend()\n",
    "# plt.show()"
   ]
  },
  {
   "cell_type": "code",
   "execution_count": 491,
   "id": "b444d168",
   "metadata": {},
   "outputs": [],
   "source": [
    "# sns.kdeplot(census_income_train.CAPGAIN, shade=True, label='TRAIN')\n",
    "# sns.kdeplot(census_income_test.CAPGAIN, shade=True, label='TEST')\n",
    "# plt.legend()\n",
    "# plt.show()"
   ]
  },
  {
   "cell_type": "code",
   "execution_count": 492,
   "id": "91aa70b7",
   "metadata": {},
   "outputs": [],
   "source": [
    "# sns.kdeplot(census_income_train.CAPLOSS, shade=True, label='TRAIN')\n",
    "# sns.kdeplot(census_income_test.CAPLOSS, shade=True, label='TEST')\n",
    "# plt.legend()\n",
    "# plt.show()"
   ]
  },
  {
   "cell_type": "code",
   "execution_count": 493,
   "id": "f74dc1b3",
   "metadata": {},
   "outputs": [],
   "source": [
    "# sns.kdeplot(census_income_train.DIVVAL, shade=True, label='TRAIN')\n",
    "# sns.kdeplot(census_income_test.DIVVAL, shade=True, label='TEST')\n",
    "# plt.legend()\n",
    "# plt.show()"
   ]
  },
  {
   "cell_type": "code",
   "execution_count": 494,
   "id": "7389f34c",
   "metadata": {},
   "outputs": [
    {
     "data": {
      "image/png": "[encoded data removed]",
      "text/plain": [
       "<Figure size 460.8x345.6 with 1 Axes>"
      ]
     },
     "metadata": {
      "needs_background": "light"
     },
     "output_type": "display_data"
    }
   ],
   "source": [
    "sns.kdeplot(census_income_train.NOEMP, shade=True, label='TRAIN')\n",
    "sns.kdeplot(census_income_test.NOEMP, shade=True, label='TEST')\n",
    "plt.legend()\n",
    "plt.show()"
   ]
  },
  {
   "cell_type": "code",
   "execution_count": 495,
   "id": "5f0c5d34",
   "metadata": {},
   "outputs": [
    {
     "data": {
      "image/png": "[encoded data removed]",
      "text/plain": [
       "<Figure size 460.8x345.6 with 1 Axes>"
      ]
     },
     "metadata": {
      "needs_background": "light"
     },
     "output_type": "display_data"
    }
   ],
   "source": [
    "sns.kdeplot(census_income_train.WKSWORK, shade=True, label='TRAIN')\n",
    "sns.kdeplot(census_income_test.WKSWORK, shade=True, label='TEST')\n",
    "plt.legend()\n",
    "plt.show()"
   ]
  },
  {
   "cell_type": "markdown",
   "id": "ab4a7f05",
   "metadata": {},
   "source": [
    "Submit your code file.\n",
    "\n",
    "\n",
    "Then also submit a PowerPoint that includes the following:\n",
    "\n",
    "- Goal of analysis\n",
    "- Description of the data: Input variables and output variable \n",
    "- Data cleaning:\n",
    "    - What did you discover about the data that required cleaning? Support your answer with examples, but keep it brief. \n",
    "    - How did you handle the data cleaning? What exactly did you do?\n",
    "- Exploratory Analysis:\n",
    "    - distribution of output (present appropriate graphs that capture the distribution of training and test set)\n",
    "    - descriptive statistics for numerical variables (present tables that include mean, median, variance, standard deviation, maximum value, minimum value, kurtosis, and skewness for numerical variables)\n",
    "    - etc.\n",
    "- Include another important preprocessing task that you deem relevant"
   ]
  }
 ],
 "metadata": {
  "kernelspec": {
   "display_name": "Python 3 (ipykernel)",
   "language": "python",
   "name": "python3"
  },
  "language_info": {
   "codemirror_mode": {
    "name": "ipython",
    "version": 3
   },
   "file_extension": ".py",
   "mimetype": "text/x-python",
   "name": "python",
   "nbconvert_exporter": "python",
   "pygments_lexer": "ipython3",
   "version": "3.10.0"
  }
 },
 "nbformat": 4,
 "nbformat_minor": 5
}
